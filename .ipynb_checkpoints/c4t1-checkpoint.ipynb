{
 "cells": [
  {
   "cell_type": "markdown",
   "metadata": {},
   "source": [
    "## C4T1\n",
    "\n",
    "This script is intended to demonstrate some of the methods one can use to transform sparse input time series data. Source data set is from the UCI machine learning repository, found here: https://archive.ics.uci.edu/ml/datasets/individual+household+electric+power+consumption"
   ]
  },
  {
   "cell_type": "code",
   "execution_count": 1,
   "metadata": {
    "collapsed": true
   },
   "outputs": [],
   "source": [
    "# dependency checking\n",
    "dependencies <- c(\"dplyr\", \"caret\", \"xts\")\n",
    "staged <- dependencies[!(dependencies %in% installed.packages()[,\"Package\"])]\n",
    "if(length(staged)) install.packages(staged, \n",
    "                                    repos = c(\"http://rstudio.org/_packages\", \n",
    "                                              \"http://cran.rstudio.com\"))\n",
    "dependencies <- NULL\n",
    "staged <- NULL"
   ]
  },
  {
   "cell_type": "code",
   "execution_count": 2,
   "metadata": {},
   "outputs": [
    {
     "data": {
      "text/plain": [
       "R version 3.3.2 (2016-10-31)\n",
       "Platform: x86_64-pc-linux-gnu (64-bit)\n",
       "Running under: Ubuntu 16.04.2 LTS\n",
       "\n",
       "locale:\n",
       " [1] LC_CTYPE=en_GB.UTF-8       LC_NUMERIC=C              \n",
       " [3] LC_TIME=en_GB.UTF-8        LC_COLLATE=en_GB.UTF-8    \n",
       " [5] LC_MONETARY=en_GB.UTF-8    LC_MESSAGES=en_GB.UTF-8   \n",
       " [7] LC_PAPER=en_GB.UTF-8       LC_NAME=C                 \n",
       " [9] LC_ADDRESS=C               LC_TELEPHONE=C            \n",
       "[11] LC_MEASUREMENT=en_GB.UTF-8 LC_IDENTIFICATION=C       \n",
       "\n",
       "attached base packages:\n",
       "character(0)\n",
       "\n",
       "other attached packages:\n",
       "[1] zoo_1.7-13 xts_0.9-7 \n",
       "\n",
       "loaded via a namespace (and not attached):\n",
       " [1] Rcpp_0.12.8     grDevices_3.3.2 digest_0.6.10   crayon_1.3.2   \n",
       " [5] dplyr_0.5.0     assertthat_0.1  IRdisplay_0.4.4 repr_0.10      \n",
       " [9] R6_2.2.0        jsonlite_1.1    DBI_0.5-1       magrittr_1.5   \n",
       "[13] evaluate_0.10   datasets_3.3.2  stringi_1.1.5   utils_3.3.2    \n",
       "[17] uuid_0.1-2      graphics_3.3.2  IRkernel_0.7.1  base_3.3.2     \n",
       "[21] tools_3.3.2     stringr_1.1.0   stats_3.3.2     pbdZMQ_0.2-4   \n",
       "[25] tibble_1.2      methods_3.3.2  "
      ]
     },
     "metadata": {},
     "output_type": "display_data"
    }
   ],
   "source": [
    "# imports (needs caret import in future version)\n",
    "suppressMessages(library(dplyr, xts))\n",
    "sessionInfo(c(\"zoo\",\"xts\"))\n"
   ]
  },
  {
   "cell_type": "code",
   "execution_count": 3,
   "metadata": {
    "collapsed": true
   },
   "outputs": [],
   "source": [
    "# globals\n",
    "dataUrl = paste(\"http://archive.ics.uci.edu/ml/machine-learning-databases/00235/household_power_consumption.zip\")"
   ]
  },
  {
   "cell_type": "code",
   "execution_count": 4,
   "metadata": {
    "collapsed": true
   },
   "outputs": [],
   "source": [
    "# read data set from internets\n",
    "temp <- tempfile()\n",
    "download.file(dataUrl, temp)\n",
    "data <- read.table(\n",
    "          unz(\n",
    "            temp,\n",
    "            \"household_power_consumption.txt\"\n",
    "          ),\n",
    "          sep=\";\",\n",
    "          header=TRUE\n",
    "        )"
   ]
  },
  {
   "cell_type": "code",
   "execution_count": 5,
   "metadata": {},
   "outputs": [
    {
     "data": {
      "text/html": [
       "<table>\n",
       "<thead><tr><th scope=col>Date</th><th scope=col>Time</th><th scope=col>Global_active_power</th><th scope=col>Global_reactive_power</th><th scope=col>Voltage</th><th scope=col>Global_intensity</th><th scope=col>Sub_metering_1</th><th scope=col>Sub_metering_2</th><th scope=col>Sub_metering_3</th></tr></thead>\n",
       "<tbody>\n",
       "\t<tr><td>16/12/2006</td><td>17:24:00  </td><td>4.216     </td><td>0.418     </td><td>234.840   </td><td>18.400    </td><td>0.000     </td><td>1.000     </td><td>17        </td></tr>\n",
       "\t<tr><td>16/12/2006</td><td>17:25:00  </td><td>5.360     </td><td>0.436     </td><td>233.630   </td><td>23.000    </td><td>0.000     </td><td>1.000     </td><td>16        </td></tr>\n",
       "\t<tr><td>16/12/2006</td><td>17:26:00  </td><td>5.374     </td><td>0.498     </td><td>233.290   </td><td>23.000    </td><td>0.000     </td><td>2.000     </td><td>17        </td></tr>\n",
       "\t<tr><td>16/12/2006</td><td>17:27:00  </td><td>5.388     </td><td>0.502     </td><td>233.740   </td><td>23.000    </td><td>0.000     </td><td>1.000     </td><td>17        </td></tr>\n",
       "\t<tr><td>16/12/2006</td><td>17:28:00  </td><td>3.666     </td><td>0.528     </td><td>235.680   </td><td>15.800    </td><td>0.000     </td><td>1.000     </td><td>17        </td></tr>\n",
       "</tbody>\n",
       "</table>\n"
      ],
      "text/latex": [
       "\\begin{tabular}{r|lllllllll}\n",
       " Date & Time & Global\\_active\\_power & Global\\_reactive\\_power & Voltage & Global\\_intensity & Sub\\_metering\\_1 & Sub\\_metering\\_2 & Sub\\_metering\\_3\\\\\n",
       "\\hline\n",
       "\t 16/12/2006 & 17:24:00   & 4.216      & 0.418      & 234.840    & 18.400     & 0.000      & 1.000      & 17        \\\\\n",
       "\t 16/12/2006 & 17:25:00   & 5.360      & 0.436      & 233.630    & 23.000     & 0.000      & 1.000      & 16        \\\\\n",
       "\t 16/12/2006 & 17:26:00   & 5.374      & 0.498      & 233.290    & 23.000     & 0.000      & 2.000      & 17        \\\\\n",
       "\t 16/12/2006 & 17:27:00   & 5.388      & 0.502      & 233.740    & 23.000     & 0.000      & 1.000      & 17        \\\\\n",
       "\t 16/12/2006 & 17:28:00   & 3.666      & 0.528      & 235.680    & 15.800     & 0.000      & 1.000      & 17        \\\\\n",
       "\\end{tabular}\n"
      ],
      "text/markdown": [
       "\n",
       "Date | Time | Global_active_power | Global_reactive_power | Voltage | Global_intensity | Sub_metering_1 | Sub_metering_2 | Sub_metering_3 | \n",
       "|---|---|---|---|---|\n",
       "| 16/12/2006 | 17:24:00   | 4.216      | 0.418      | 234.840    | 18.400     | 0.000      | 1.000      | 17         | \n",
       "| 16/12/2006 | 17:25:00   | 5.360      | 0.436      | 233.630    | 23.000     | 0.000      | 1.000      | 16         | \n",
       "| 16/12/2006 | 17:26:00   | 5.374      | 0.498      | 233.290    | 23.000     | 0.000      | 2.000      | 17         | \n",
       "| 16/12/2006 | 17:27:00   | 5.388      | 0.502      | 233.740    | 23.000     | 0.000      | 1.000      | 17         | \n",
       "| 16/12/2006 | 17:28:00   | 3.666      | 0.528      | 235.680    | 15.800     | 0.000      | 1.000      | 17         | \n",
       "\n",
       "\n"
      ],
      "text/plain": [
       "  Date       Time     Global_active_power Global_reactive_power Voltage\n",
       "1 16/12/2006 17:24:00 4.216               0.418                 234.840\n",
       "2 16/12/2006 17:25:00 5.360               0.436                 233.630\n",
       "3 16/12/2006 17:26:00 5.374               0.498                 233.290\n",
       "4 16/12/2006 17:27:00 5.388               0.502                 233.740\n",
       "5 16/12/2006 17:28:00 3.666               0.528                 235.680\n",
       "  Global_intensity Sub_metering_1 Sub_metering_2 Sub_metering_3\n",
       "1 18.400           0.000          1.000          17            \n",
       "2 23.000           0.000          1.000          16            \n",
       "3 23.000           0.000          2.000          17            \n",
       "4 23.000           0.000          1.000          17            \n",
       "5 15.800           0.000          1.000          17            "
      ]
     },
     "metadata": {},
     "output_type": "display_data"
    }
   ],
   "source": [
    "# view the raw data and create a backup df (just in case)\n",
    "head(data,5)\n",
    "dataBak <- data"
   ]
  },
  {
   "cell_type": "code",
   "execution_count": 27,
   "metadata": {
    "collapsed": true
   },
   "outputs": [],
   "source": [
    "# load the backup data (only run if you dun screwed up)\n",
    "data <- dataBak"
   ]
  },
  {
   "cell_type": "code",
   "execution_count": 13,
   "metadata": {},
   "outputs": [
    {
     "data": {
      "text/html": [
       "<dl class=dl-horizontal>\n",
       "\t<dt>dependencies</dt>\n",
       "\t\t<dd>0</dd>\n",
       "\t<dt>staged</dt>\n",
       "\t\t<dd>0</dd>\n",
       "\t<dt>temp</dt>\n",
       "\t\t<dd>136</dd>\n",
       "\t<dt>dataUrl</dt>\n",
       "\t\t<dd>216</dd>\n",
       "\t<dt>data</dt>\n",
       "\t\t<dd>83644688</dd>\n",
       "\t<dt>dataBak</dt>\n",
       "\t\t<dd>83644688</dd>\n",
       "</dl>\n"
      ],
      "text/latex": [
       "\\begin{description*}\n",
       "\\item[dependencies] 0\n",
       "\\item[staged] 0\n",
       "\\item[temp] 136\n",
       "\\item[dataUrl] 216\n",
       "\\item[data] 83644688\n",
       "\\item[dataBak] 83644688\n",
       "\\end{description*}\n"
      ],
      "text/markdown": [
       "dependencies\n",
       ":   0staged\n",
       ":   0temp\n",
       ":   136dataUrl\n",
       ":   216data\n",
       ":   83644688dataBak\n",
       ":   83644688\n",
       "\n"
      ],
      "text/plain": [
       "dependencies       staged         temp      dataUrl         data      dataBak \n",
       "           0            0          136          216     83644688     83644688 "
      ]
     },
     "metadata": {},
     "output_type": "display_data"
    }
   ],
   "source": [
    "# lets keep an eye on our memory footprint...\n",
    "sort( sapply(ls(),function(x){object.size(get(x))})) "
   ]
  },
  {
   "cell_type": "code",
   "execution_count": 28,
   "metadata": {},
   "outputs": [],
   "source": [
    "# create dateTime column\n",
    "data <- cbind(\n",
    "      data,paste(data$Date,data$Time), \n",
    "      stringsAsFactors=FALSE)\n",
    "colnames(data)[10] <-\"dateTime\""
   ]
  },
  {
   "cell_type": "code",
   "execution_count": 29,
   "metadata": {
    "collapsed": true
   },
   "outputs": [],
   "source": [
    "# move dateTime col to col1 of table\n",
    "data <- data[,c(ncol(data), 1:(ncol(data)-1))]"
   ]
  },
  {
   "cell_type": "code",
   "execution_count": 30,
   "metadata": {
    "collapsed": true
   },
   "outputs": [],
   "source": [
    "# remove the old date and time cols\n",
    "data <- data[,-c(2:3)]"
   ]
  },
  {
   "cell_type": "code",
   "execution_count": 31,
   "metadata": {},
   "outputs": [
    {
     "name": "stderr",
     "output_type": "stream",
     "text": [
      "Warning message in eval(expr, envir, enclos):\n",
      "“NAs introduced by coercion”Warning message in eval(expr, envir, enclos):\n",
      "“NAs introduced by coercion”Warning message in eval(expr, envir, enclos):\n",
      "“NAs introduced by coercion”Warning message in eval(expr, envir, enclos):\n",
      "“NAs introduced by coercion”Warning message in eval(expr, envir, enclos):\n",
      "“NAs introduced by coercion”Warning message in eval(expr, envir, enclos):\n",
      "“NAs introduced by coercion”"
     ]
    }
   ],
   "source": [
    "# convert data types\n",
    "data$Global_active_power <- as.numeric(as.character(data$Global_active_power))\n",
    "data$Global_reactive_power <- as.numeric(as.character(data$Global_reactive_power))\n",
    "data$Voltage <- as.numeric(as.character(data$Voltage))\n",
    "data$Global_intensity <- as.numeric(as.character(data$Global_intensity))\n",
    "data$Sub_metering_1 <- as.numeric(as.character(data$Sub_metering_1))\n",
    "data$Sub_metering_2 <- as.numeric(as.character(data$Sub_metering_2))"
   ]
  },
  {
   "cell_type": "code",
   "execution_count": 32,
   "metadata": {},
   "outputs": [
    {
     "name": "stdout",
     "output_type": "stream",
     "text": [
      "[1] \"Rows before NA removal: \" \"2,075,259\"               \n"
     ]
    }
   ],
   "source": [
    "# get count of rows in data frame\n",
    "print(\n",
    "        c(\n",
    "        'Rows before NA removal: ', \n",
    "            prettyNum(\n",
    "                nrow(data),big.mark=\",\",scientific=FALSE\n",
    "            )\n",
    "        )\n",
    ")"
   ]
  },
  {
   "cell_type": "code",
   "execution_count": 33,
   "metadata": {},
   "outputs": [
    {
     "data": {
      "text/html": [
       "<table>\n",
       "<thead><tr><th></th><th scope=col>sapply.data..function.y..sum.length.which.is.na.y.....</th></tr></thead>\n",
       "<tbody>\n",
       "\t<tr><th scope=row>dateTime</th><td>    0</td></tr>\n",
       "\t<tr><th scope=row>Global_active_power</th><td>25979</td></tr>\n",
       "\t<tr><th scope=row>Global_reactive_power</th><td>25979</td></tr>\n",
       "\t<tr><th scope=row>Voltage</th><td>25979</td></tr>\n",
       "\t<tr><th scope=row>Global_intensity</th><td>25979</td></tr>\n",
       "\t<tr><th scope=row>Sub_metering_1</th><td>25979</td></tr>\n",
       "\t<tr><th scope=row>Sub_metering_2</th><td>25979</td></tr>\n",
       "\t<tr><th scope=row>Sub_metering_3</th><td>25979</td></tr>\n",
       "</tbody>\n",
       "</table>\n"
      ],
      "text/latex": [
       "\\begin{tabular}{r|l}\n",
       "  & sapply.data..function.y..sum.length.which.is.na.y.....\\\\\n",
       "\\hline\n",
       "\tdateTime &     0\\\\\n",
       "\tGlobal\\_active\\_power & 25979\\\\\n",
       "\tGlobal\\_reactive\\_power & 25979\\\\\n",
       "\tVoltage & 25979\\\\\n",
       "\tGlobal\\_intensity & 25979\\\\\n",
       "\tSub\\_metering\\_1 & 25979\\\\\n",
       "\tSub\\_metering\\_2 & 25979\\\\\n",
       "\tSub\\_metering\\_3 & 25979\\\\\n",
       "\\end{tabular}\n"
      ],
      "text/markdown": [
       "\n",
       "| <!--/--> | sapply.data..function.y..sum.length.which.is.na.y..... | \n",
       "|---|---|---|---|---|---|---|---|\n",
       "| dateTime |     0 | \n",
       "| Global_active_power | 25979 | \n",
       "| Global_reactive_power | 25979 | \n",
       "| Voltage | 25979 | \n",
       "| Global_intensity | 25979 | \n",
       "| Sub_metering_1 | 25979 | \n",
       "| Sub_metering_2 | 25979 | \n",
       "| Sub_metering_3 | 25979 | \n",
       "\n",
       "\n"
      ],
      "text/plain": [
       "                      sapply.data..function.y..sum.length.which.is.na.y.....\n",
       "dateTime                  0                                                 \n",
       "Global_active_power   25979                                                 \n",
       "Global_reactive_power 25979                                                 \n",
       "Voltage               25979                                                 \n",
       "Global_intensity      25979                                                 \n",
       "Sub_metering_1        25979                                                 \n",
       "Sub_metering_2        25979                                                 \n",
       "Sub_metering_3        25979                                                 "
      ]
     },
     "metadata": {},
     "output_type": "display_data"
    }
   ],
   "source": [
    "# get count of NA rows in data frame, by column\n",
    "data.frame(sapply(data, function(y) sum(length(which(is.na(y))))))"
   ]
  },
  {
   "cell_type": "code",
   "execution_count": 34,
   "metadata": {},
   "outputs": [
    {
     "name": "stdout",
     "output_type": "stream",
     "text": [
      "[1] \"Rows after NA removal: \" \"2,049,280\"              \n"
     ]
    }
   ],
   "source": [
    "# remove NAs and view count of rows after NA removal\n",
    "data <- na.omit(data)\n",
    "print(\n",
    "        c(\n",
    "        'Rows after NA removal: ', \n",
    "            prettyNum(\n",
    "                nrow(data),big.mark=\",\",scientific=FALSE\n",
    "            )\n",
    "        )\n",
    ")"
   ]
  },
  {
   "cell_type": "code",
   "execution_count": 35,
   "metadata": {},
   "outputs": [
    {
     "data": {
      "text/html": [
       "<table>\n",
       "<thead><tr><th scope=col>dateTime</th><th scope=col>Global_active_power</th><th scope=col>Global_reactive_power</th><th scope=col>Voltage</th><th scope=col>Global_intensity</th><th scope=col>Sub_metering_1</th><th scope=col>Sub_metering_2</th><th scope=col>Sub_metering_3</th></tr></thead>\n",
       "<tbody>\n",
       "\t<tr><td>16/12/2006 17:24:00</td><td>4.216              </td><td>0.418              </td><td>234.84             </td><td>18.4               </td><td>0                  </td><td>1                  </td><td>17                 </td></tr>\n",
       "\t<tr><td>16/12/2006 17:25:00</td><td>5.360              </td><td>0.436              </td><td>233.63             </td><td>23.0               </td><td>0                  </td><td>1                  </td><td>16                 </td></tr>\n",
       "</tbody>\n",
       "</table>\n"
      ],
      "text/latex": [
       "\\begin{tabular}{r|llllllll}\n",
       " dateTime & Global\\_active\\_power & Global\\_reactive\\_power & Voltage & Global\\_intensity & Sub\\_metering\\_1 & Sub\\_metering\\_2 & Sub\\_metering\\_3\\\\\n",
       "\\hline\n",
       "\t 16/12/2006 17:24:00 & 4.216               & 0.418               & 234.84              & 18.4                & 0                   & 1                   & 17                 \\\\\n",
       "\t 16/12/2006 17:25:00 & 5.360               & 0.436               & 233.63              & 23.0                & 0                   & 1                   & 16                 \\\\\n",
       "\\end{tabular}\n"
      ],
      "text/markdown": [
       "\n",
       "dateTime | Global_active_power | Global_reactive_power | Voltage | Global_intensity | Sub_metering_1 | Sub_metering_2 | Sub_metering_3 | \n",
       "|---|---|\n",
       "| 16/12/2006 17:24:00 | 4.216               | 0.418               | 234.84              | 18.4                | 0                   | 1                   | 17                  | \n",
       "| 16/12/2006 17:25:00 | 5.360               | 0.436               | 233.63              | 23.0                | 0                   | 1                   | 16                  | \n",
       "\n",
       "\n"
      ],
      "text/plain": [
       "  dateTime            Global_active_power Global_reactive_power Voltage\n",
       "1 16/12/2006 17:24:00 4.216               0.418                 234.84 \n",
       "2 16/12/2006 17:25:00 5.360               0.436                 233.63 \n",
       "  Global_intensity Sub_metering_1 Sub_metering_2 Sub_metering_3\n",
       "1 18.4             0              1              17            \n",
       "2 23.0             0              1              16            "
      ]
     },
     "metadata": {},
     "output_type": "display_data"
    }
   ],
   "source": [
    "# view the cleaned data\n",
    "head(data,2)"
   ]
  },
  {
   "cell_type": "code",
   "execution_count": 41,
   "metadata": {},
   "outputs": [
    {
     "data": {
      "text/plain": [
       "[1] \"2006-12-16 17:24:00 GMT\""
      ]
     },
     "metadata": {},
     "output_type": "display_data"
    }
   ],
   "source": [
    "# convert dateTime from chr to POSIXlt object and display POSIX format and data type\n",
    "data$dateTime <- strptime(\n",
    "  data[,1],\n",
    "  format=\"%d/%m/%Y %H:%M:%S\",\n",
    "  tz=\"\"\n",
    ")\n",
    "head(data$dateTime[1])\n",
    "class(data[1:100,1])"
   ]
  },
  {
   "cell_type": "markdown",
   "metadata": {},
   "source": [
    "# Begin experimentation with xts and POSIX dates"
   ]
  },
  {
   "cell_type": "code",
   "execution_count": 53,
   "metadata": {},
   "outputs": [
    {
     "data": {
      "text/html": [
       "<table>\n",
       "<thead><tr><th scope=col>dateTime</th><th scope=col>Sub_metering_1</th><th scope=col>Sub_metering_2</th><th scope=col>Sub_metering_3</th></tr></thead>\n",
       "<tbody>\n",
       "\t<tr><td>2006-12-16 17:24:00</td><td>0                  </td><td>1                  </td><td>17                 </td></tr>\n",
       "\t<tr><td>2006-12-16 17:25:00</td><td>0                  </td><td>1                  </td><td>16                 </td></tr>\n",
       "\t<tr><td>2006-12-16 17:26:00</td><td>0                  </td><td>2                  </td><td>17                 </td></tr>\n",
       "\t<tr><td>2006-12-16 17:27:00</td><td>0                  </td><td>1                  </td><td>17                 </td></tr>\n",
       "\t<tr><td>2006-12-16 17:28:00</td><td>0                  </td><td>1                  </td><td>17                 </td></tr>\n",
       "\t<tr><td>2006-12-16 17:29:00</td><td>0                  </td><td>2                  </td><td>17                 </td></tr>\n",
       "\t<tr><td>2006-12-16 17:30:00</td><td>0                  </td><td>1                  </td><td>17                 </td></tr>\n",
       "\t<tr><td>2006-12-16 17:31:00</td><td>0                  </td><td>1                  </td><td>17                 </td></tr>\n",
       "\t<tr><td>2006-12-16 17:32:00</td><td>0                  </td><td>1                  </td><td>17                 </td></tr>\n",
       "\t<tr><td>2006-12-16 17:33:00</td><td>0                  </td><td>2                  </td><td>16                 </td></tr>\n",
       "</tbody>\n",
       "</table>\n"
      ],
      "text/latex": [
       "\\begin{tabular}{r|llll}\n",
       " dateTime & Sub\\_metering\\_1 & Sub\\_metering\\_2 & Sub\\_metering\\_3\\\\\n",
       "\\hline\n",
       "\t 2006-12-16 17:24:00 & 0                   & 1                   & 17                 \\\\\n",
       "\t 2006-12-16 17:25:00 & 0                   & 1                   & 16                 \\\\\n",
       "\t 2006-12-16 17:26:00 & 0                   & 2                   & 17                 \\\\\n",
       "\t 2006-12-16 17:27:00 & 0                   & 1                   & 17                 \\\\\n",
       "\t 2006-12-16 17:28:00 & 0                   & 1                   & 17                 \\\\\n",
       "\t 2006-12-16 17:29:00 & 0                   & 2                   & 17                 \\\\\n",
       "\t 2006-12-16 17:30:00 & 0                   & 1                   & 17                 \\\\\n",
       "\t 2006-12-16 17:31:00 & 0                   & 1                   & 17                 \\\\\n",
       "\t 2006-12-16 17:32:00 & 0                   & 1                   & 17                 \\\\\n",
       "\t 2006-12-16 17:33:00 & 0                   & 2                   & 16                 \\\\\n",
       "\\end{tabular}\n"
      ],
      "text/markdown": [
       "\n",
       "dateTime | Sub_metering_1 | Sub_metering_2 | Sub_metering_3 | \n",
       "|---|---|---|---|---|---|---|---|---|---|\n",
       "| 2006-12-16 17:24:00 | 0                   | 1                   | 17                  | \n",
       "| 2006-12-16 17:25:00 | 0                   | 1                   | 16                  | \n",
       "| 2006-12-16 17:26:00 | 0                   | 2                   | 17                  | \n",
       "| 2006-12-16 17:27:00 | 0                   | 1                   | 17                  | \n",
       "| 2006-12-16 17:28:00 | 0                   | 1                   | 17                  | \n",
       "| 2006-12-16 17:29:00 | 0                   | 2                   | 17                  | \n",
       "| 2006-12-16 17:30:00 | 0                   | 1                   | 17                  | \n",
       "| 2006-12-16 17:31:00 | 0                   | 1                   | 17                  | \n",
       "| 2006-12-16 17:32:00 | 0                   | 1                   | 17                  | \n",
       "| 2006-12-16 17:33:00 | 0                   | 2                   | 16                  | \n",
       "\n",
       "\n"
      ],
      "text/plain": [
       "   dateTime            Sub_metering_1 Sub_metering_2 Sub_metering_3\n",
       "1  2006-12-16 17:24:00 0              1              17            \n",
       "2  2006-12-16 17:25:00 0              1              16            \n",
       "3  2006-12-16 17:26:00 0              2              17            \n",
       "4  2006-12-16 17:27:00 0              1              17            \n",
       "5  2006-12-16 17:28:00 0              1              17            \n",
       "6  2006-12-16 17:29:00 0              2              17            \n",
       "7  2006-12-16 17:30:00 0              1              17            \n",
       "8  2006-12-16 17:31:00 0              1              17            \n",
       "9  2006-12-16 17:32:00 0              1              17            \n",
       "10 2006-12-16 17:33:00 0              2              16            "
      ]
     },
     "metadata": {},
     "output_type": "display_data"
    }
   ],
   "source": [
    "# would be great to feed this into xts, but doesn't want to take cols 2:4 w/ chr errors...\n",
    "data[1:10,c(\"dateTime\",\"Sub_metering_1\",\"Sub_metering_2\",\"Sub_metering_3\")]"
   ]
  },
  {
   "cell_type": "code",
   "execution_count": 63,
   "metadata": {},
   "outputs": [
    {
     "data": {
      "text/plain": [
       "Data:\n",
       "numeric(0)\n",
       "\n",
       "Index:\n",
       " POSIXlt[1:10000], format: \"2006-12-16 17:24:00\" \"2006-12-16 17:25:00\" ..."
      ]
     },
     "metadata": {},
     "output_type": "display_data"
    }
   ],
   "source": [
    "# create an xts object (eXtensible time series); takes POSIXlt input vector\n",
    "# note that library must be called explicitly, not sure why...\n",
    "xtsObj <- xts::as.xts(data[1:10000,1])\n",
    "xtsObj"
   ]
  },
  {
   "cell_type": "code",
   "execution_count": 64,
   "metadata": {},
   "outputs": [
    {
     "data": {
      "text/plain": [
       "Data:\n",
       "numeric(0)\n",
       "\n",
       "Index:\n",
       " POSIXlt[1:10000], format: \"2006-12-16 17:24:00\" \"2006-12-16 17:25:00\" ..."
      ]
     },
     "metadata": {},
     "output_type": "display_data"
    }
   ],
   "source": [
    "xts::first(xtsObj,'1 week')"
   ]
  },
  {
   "cell_type": "markdown",
   "metadata": {},
   "source": [
    "# Begin 'conventional' study with non-POSIX ts() objects..."
   ]
  },
  {
   "cell_type": "code",
   "execution_count": null,
   "metadata": {
    "collapsed": true
   },
   "outputs": [],
   "source": [
    "# create year / month / day features\n",
    "data$year <- as.factor(strftime(data[,1], format=\"%Y\"))\n",
    "data$month <- as.factor(strftime(data[,1], format=\"%b\"))\n",
    "data$dayOfMonth <- as.factor(strftime(data[,1], format=\"%e\"))\n",
    "data$hour <- as.factor(strftime(data[,1], format=\"%k\"))"
   ]
  },
  {
   "cell_type": "code",
   "execution_count": null,
   "metadata": {
    "collapsed": true
   },
   "outputs": [],
   "source": [
    "# create a new dataframe, gpdata, which is grouped by year/month/day/hour\n",
    "# group submeters [Wh] by year / month / day / hour\n",
    "gpdata <- data[,2:12] %>%\n",
    "  group_by(year, month, dayOfMonth, hour) %>%\n",
    "    summarise(SM1=sum(Sub_metering_1, na.rm=TRUE),\n",
    "              SM2=sum(Sub_metering_3, na.rm=TRUE),\n",
    "              SM3=sum(Sub_metering_2, na.rm=TRUE))"
   ]
  },
  {
   "cell_type": "code",
   "execution_count": null,
   "metadata": {
    "collapsed": true
   },
   "outputs": [],
   "source": [
    "# create a time series object, dayOne, which takes the first 24 hours, [1:24,],\n",
    "# of the SM1, SM2, and SM3 features [,5:7] of our gpData frame\n",
    "dayOne <-ts(gpdata[1:24,5:7], frequency=24, start=0, end=23)"
   ]
  },
  {
   "cell_type": "code",
   "execution_count": null,
   "metadata": {
    "collapsed": true
   },
   "outputs": [],
   "source": [
    "# display the first 5 rows of our time series object, dayOne\n",
    "head(dayOne,5)"
   ]
  },
  {
   "cell_type": "code",
   "execution_count": null,
   "metadata": {
    "collapsed": true
   },
   "outputs": [],
   "source": [
    "# view day one power consumption [Wh], by hour, faceted by submeter\n",
    "plot(dayOne, xlab=\"Hour\", ylab=\"Consumption [Wh]\", main=\"daily data\", type=\"l\")"
   ]
  },
  {
   "cell_type": "code",
   "execution_count": null,
   "metadata": {
    "collapsed": true
   },
   "outputs": [],
   "source": []
  }
 ],
 "metadata": {
  "kernelspec": {
   "display_name": "R",
   "language": "R",
   "name": "ir"
  },
  "language_info": {
   "codemirror_mode": "r",
   "file_extension": ".r",
   "mimetype": "text/x-r-source",
   "name": "R",
   "pygments_lexer": "r",
   "version": "3.3.2"
  }
 },
 "nbformat": 4,
 "nbformat_minor": 2
}
