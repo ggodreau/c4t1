{
 "cells": [
  {
   "cell_type": "code",
   "execution_count": 1,
   "metadata": {},
   "outputs": [
    {
     "data": {
      "text/html": [
       "'/home/greg/xtol/c4t1'"
      ],
      "text/latex": [
       "'/home/greg/xtol/c4t1'"
      ],
      "text/markdown": [
       "'/home/greg/xtol/c4t1'"
      ],
      "text/plain": [
       "[1] \"/home/greg/xtol/c4t1\""
      ]
     },
     "metadata": {},
     "output_type": "display_data"
    }
   ],
   "source": [
    "getwd()"
   ]
  },
  {
   "cell_type": "code",
   "execution_count": 2,
   "metadata": {},
   "outputs": [
    {
     "name": "stderr",
     "output_type": "stream",
     "text": [
      "Loading required package: lubridate\n",
      "\n",
      "Attaching package: ‘lubridate’\n",
      "\n",
      "The following object is masked from ‘package:base’:\n",
      "\n",
      "    date\n",
      "\n",
      "Loading required package: PerformanceAnalytics\n",
      "Loading required package: xts\n",
      "Loading required package: zoo\n",
      "\n",
      "Attaching package: ‘zoo’\n",
      "\n",
      "The following objects are masked from ‘package:base’:\n",
      "\n",
      "    as.Date, as.Date.numeric\n",
      "\n",
      "\n",
      "Attaching package: ‘PerformanceAnalytics’\n",
      "\n",
      "The following object is masked from ‘package:graphics’:\n",
      "\n",
      "    legend\n",
      "\n",
      "Loading required package: quantmod\n",
      "Loading required package: TTR\n",
      "Version 0.4-0 included new data defaults. See ?getSymbols.\n",
      "Loading required package: tidyverse\n",
      "Loading tidyverse: ggplot2\n",
      "Loading tidyverse: tibble\n",
      "Loading tidyverse: tidyr\n",
      "Loading tidyverse: readr\n",
      "Loading tidyverse: purrr\n",
      "Loading tidyverse: dplyr\n",
      "Conflicts with tidy packages ---------------------------------------------------\n",
      "as.difftime(): lubridate, base\n",
      "date():        lubridate, base\n",
      "filter():      dplyr, stats\n",
      "first():       dplyr, xts\n",
      "intersect():   lubridate, base\n",
      "lag():         dplyr, stats\n",
      "last():        dplyr, xts\n",
      "setdiff():     lubridate, base\n",
      "union():       lubridate, base\n",
      "\n",
      "Attaching package: ‘tidyquant’\n",
      "\n",
      "The following object is masked from ‘package:tibble’:\n",
      "\n",
      "    as_tibble\n",
      "\n",
      "\n",
      "Attaching package: ‘reshape2’\n",
      "\n",
      "The following object is masked from ‘package:tidyr’:\n",
      "\n",
      "    smiths\n",
      "\n"
     ]
    }
   ],
   "source": [
    "# imports\n",
    "library(tidyquant)\n",
    "library(timekit)\n",
    "library(ggplot2)\n",
    "library(reshape2) #melt"
   ]
  },
  {
   "cell_type": "code",
   "execution_count": 4,
   "metadata": {},
   "outputs": [],
   "source": [
    "data_normal <- read.table(\n",
    "            './house.txt',\n",
    "            sep=\";\",\n",
    "            header=TRUE)\n",
    "\n",
    "data_asis <- read.table(\n",
    "            'house.txt',\n",
    "            sep=\";\",\n",
    "            header=TRUE,\n",
    "            as.is=TRUE)"
   ]
  },
  {
   "cell_type": "code",
   "execution_count": 6,
   "metadata": {},
   "outputs": [
    {
     "name": "stdout",
     "output_type": "stream",
     "text": [
      "'data.frame':\t99999 obs. of  9 variables:\n",
      " $ Date                 : Factor w/ 71 levels \"1/1/2007\",\"1/2/2007\",..: 16 16 16 16 16 16 16 16 16 16 ...\n",
      " $ Time                 : Factor w/ 1440 levels \"00:00:00\",\"00:01:00\",..: 1045 1046 1047 1048 1049 1050 1051 1052 1053 1054 ...\n",
      " $ Global_active_power  : Factor w/ 3425 levels \"?\",\"0.194\",\"0.196\",..: 2013 2571 2577 2584 1738 1665 1756 1755 1739 1736 ...\n",
      " $ Global_reactive_power: Factor w/ 380 levels \"?\",\"0.000\",\"0.046\",..: 189 198 229 231 244 241 240 240 235 235 ...\n",
      " $ Voltage              : Factor w/ 2201 levels \"?\",\"223.490\",..: 638 517 483 528 722 656 663 676 553 540 ...\n",
      " $ Global_intensity     : Factor w/ 197 levels \"?\",\"0.800\",\"1.000\",..: 50 78 78 78 37 33 37 37 37 37 ...\n",
      " $ Sub_metering_1       : Factor w/ 62 levels \"?\",\"0.000\",\"1.000\",..: 2 2 2 2 2 2 2 2 2 2 ...\n",
      " $ Sub_metering_2       : Factor w/ 79 levels \"?\",\"0.000\",\"1.000\",..: 3 3 14 3 3 14 3 3 3 14 ...\n",
      " $ Sub_metering_3       : num  17 16 17 17 17 17 17 17 17 16 ...\n"
     ]
    }
   ],
   "source": [
    "str(data_normal)"
   ]
  },
  {
   "cell_type": "code",
   "execution_count": 12,
   "metadata": {},
   "outputs": [
    {
     "data": {
      "text/html": [
       "0.418"
      ],
      "text/latex": [
       "0.418"
      ],
      "text/markdown": [
       "0.418"
      ],
      "text/plain": [
       "[1] 0.418\n",
       "380 Levels: ? 0.000 0.046 0.048 0.050 0.052 0.054 0.056 0.058 0.060 ... 0.874"
      ]
     },
     "metadata": {},
     "output_type": "display_data"
    },
    {
     "data": {
      "text/html": [
       "189"
      ],
      "text/latex": [
       "189"
      ],
      "text/markdown": [
       "189"
      ],
      "text/plain": [
       "[1] 189"
      ]
     },
     "metadata": {},
     "output_type": "display_data"
    }
   ],
   "source": [
    "data_normal[1,4]\n",
    "as.numeric(data_normal[1,4])"
   ]
  },
  {
   "cell_type": "code",
   "execution_count": 7,
   "metadata": {},
   "outputs": [
    {
     "name": "stdout",
     "output_type": "stream",
     "text": [
      "'data.frame':\t99999 obs. of  9 variables:\n",
      " $ Date                 : chr  \"16/12/2006\" \"16/12/2006\" \"16/12/2006\" \"16/12/2006\" ...\n",
      " $ Time                 : chr  \"17:24:00\" \"17:25:00\" \"17:26:00\" \"17:27:00\" ...\n",
      " $ Global_active_power  : chr  \"4.216\" \"5.360\" \"5.374\" \"5.388\" ...\n",
      " $ Global_reactive_power: chr  \"0.418\" \"0.436\" \"0.498\" \"0.502\" ...\n",
      " $ Voltage              : chr  \"234.840\" \"233.630\" \"233.290\" \"233.740\" ...\n",
      " $ Global_intensity     : chr  \"18.400\" \"23.000\" \"23.000\" \"23.000\" ...\n",
      " $ Sub_metering_1       : chr  \"0.000\" \"0.000\" \"0.000\" \"0.000\" ...\n",
      " $ Sub_metering_2       : chr  \"1.000\" \"1.000\" \"2.000\" \"1.000\" ...\n",
      " $ Sub_metering_3       : num  17 16 17 17 17 17 17 17 17 16 ...\n"
     ]
    }
   ],
   "source": [
    "str(data_asis)"
   ]
  },
  {
   "cell_type": "code",
   "execution_count": 13,
   "metadata": {},
   "outputs": [
    {
     "data": {
      "text/html": [
       "'0.418'"
      ],
      "text/latex": [
       "'0.418'"
      ],
      "text/markdown": [
       "'0.418'"
      ],
      "text/plain": [
       "[1] \"0.418\""
      ]
     },
     "metadata": {},
     "output_type": "display_data"
    },
    {
     "data": {
      "text/html": [
       "0.418"
      ],
      "text/latex": [
       "0.418"
      ],
      "text/markdown": [
       "0.418"
      ],
      "text/plain": [
       "[1] 0.418"
      ]
     },
     "metadata": {},
     "output_type": "display_data"
    }
   ],
   "source": [
    "data_asis[1,4]\n",
    "as.numeric(data_asis[1,4])"
   ]
  },
  {
   "cell_type": "code",
   "execution_count": null,
   "metadata": {
    "collapsed": true
   },
   "outputs": [],
   "source": []
  }
 ],
 "metadata": {
  "kernelspec": {
   "display_name": "R",
   "language": "R",
   "name": "ir"
  },
  "language_info": {
   "codemirror_mode": "r",
   "file_extension": ".r",
   "mimetype": "text/x-r-source",
   "name": "R",
   "pygments_lexer": "r",
   "version": "3.3.2"
  }
 },
 "nbformat": 4,
 "nbformat_minor": 2
}
